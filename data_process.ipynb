{
 "cells": [
  {
   "cell_type": "code",
   "execution_count": 2,
   "metadata": {
    "collapsed": false
   },
   "outputs": [
    {
     "name": "stderr",
     "output_type": "stream",
     "text": [
      "Using TensorFlow backend.\n"
     ]
    }
   ],
   "source": [
    "'''import basic package'''\n",
    "import pandas as pd\n",
    "import numpy as np\n",
    "\n",
    "\n",
    "'''import deep learning package'''\n",
    "import keras as k\n",
    "import tensorflow as tf\n",
    "\n",
    "\n",
    "import requests\n",
    "import json\n",
    "\n",
    "from IPython.display import Image\n",
    "from IPython.display import display\n",
    "from IPython.display import HTML\n",
    "\n",
    "import urllib.request\n",
    "\n",
    "from keras.applications import VGG16\n",
    "from keras.applications.vgg16 import preprocess_input\n",
    "from keras.preprocessing import image as kimage\n"
   ]
  },
  {
   "cell_type": "code",
   "execution_count": 3,
   "metadata": {
    "collapsed": false
   },
   "outputs": [
    {
     "name": "stdout",
     "output_type": "stream",
     "text": [
      "   userId  movieId  rating   timestamp  imdbId  tmdbId\n",
      "0       1       31     2.5  1260759144  112792  9909.0\n",
      "1       7       31     3.0   851868750  112792  9909.0\n",
      "2      31       31     4.0  1273541953  112792  9909.0\n",
      "3      32       31     4.0   834828440  112792  9909.0\n",
      "4      36       31     3.0   847057202  112792  9909.0\n",
      "(100004, 6)\n"
     ]
    }
   ],
   "source": [
    "rating_df = pd.read_csv('ml-latest-small/ratings.csv')\n",
    "linkes_df = pd.read_csv('ml-latest-small/links.csv')\n",
    "\n",
    "df_merged = pd.merge(rating_df,linkes_df,on=['movieId'])\n",
    "print(df_merged.head())\n",
    "print(df_merged.shape)"
   ]
  },
  {
   "cell_type": "code",
   "execution_count": null,
   "metadata": {
    "collapsed": true
   },
   "outputs": [],
   "source": [
    "rating_matrix_dim = [len(df_merged.userId.unique()),max(df_merged.movieId)]\n",
    "\n",
    "rating_matrix = np.zeros(rating_matrix_dim)\n",
    "\n",
    "\n",
    "for row in df_merged.itertuples():\n",
    "    try:\n",
    "        rating_matrix[row[1]-1, row[2]-1] = row[3]\n",
    "    except:\n",
    "        continue\n",
    "\n",
    "rating_matrix = rating_matrix[:,:9000]\n",
    "\n",
    "print(rating_matrix.shape)"
   ]
  },
  {
   "cell_type": "code",
   "execution_count": null,
   "metadata": {
    "collapsed": true
   },
   "outputs": [],
   "source": [
    "np.save('rating_matrix',rating_matrix)"
   ]
  },
  {
   "cell_type": "code",
   "execution_count": null,
   "metadata": {
    "collapsed": true
   },
   "outputs": [],
   "source": [
    "'''built a map between movieId and tmdbID'''\n",
    "movieId_vs_tmdbId = {}\n",
    "\n",
    "for row in df_merged[['movieId','tmdbId']].itertuples():    \n",
    "    try:\n",
    "        movieId_vs_tmdbId[str(int(row[1]-1))] = int(row[2])\n",
    "    except:\n",
    "        continue\n",
    "\n",
    "np.save('movieId_vs_tmdbId',movieId_vs_tmdbId)"
   ]
  },
  {
   "cell_type": "code",
   "execution_count": null,
   "metadata": {
    "collapsed": true
   },
   "outputs": [],
   "source": [
    "'''this cell just run one time to download all posters'''\n",
    "# poster_path = \"/Users/zishuoli/Downloads/bigdata/final/posters/\"\n",
    "\n",
    "movie_list = []\n",
    "# item in movie list is tmdb id\n",
    "for i in movieId_vs_tmdbId.values():\n",
    "    try:\n",
    "        poster_url = get_poster(i)\n",
    "        # download poster jpg to poster_path\n",
    "        urllib.request.urlretrieve(poster_url, poster_path + str(int(i)) + \".jpg\")\n",
    "        movie_list.append(i)\n",
    "    except:\n",
    "        print('tmdb movie id :',str(i),'is not available')\n",
    "        continue\n"
   ]
  },
  {
   "cell_type": "code",
   "execution_count": null,
   "metadata": {
    "collapsed": true
   },
   "outputs": [],
   "source": [
    "\n",
    "'''transfer learning'''\n",
    "img = []\n",
    "\n",
    "poster_path = \"/Users/zishuoli/Downloads/bigdata/final/posters/\"\n",
    "\n",
    "for i in movie_list:\n",
    "    tmp = kimage.load_img(poster_path + str(i) + \".jpg\", target_size=(224, 224))\n",
    "    tmp = kimage.img_to_array(tmp)\n",
    "    tmp = np.expand_dims(tmp, axis=0)\n",
    "    tmp = preprocess_input(tmp)   \n",
    "    \n",
    "    img.append(tmp)\n",
    "    \n",
    "# image_top=False removes final connected layers   \n",
    "model = VGG16(include_top=False, weights='imagenet')"
   ]
  },
  {
   "cell_type": "code",
   "execution_count": null,
   "metadata": {
    "collapsed": true
   },
   "outputs": [],
   "source": [
    "movie_num = len(movie_list)\n",
    "\n",
    "feature_matrix = np.zeros([movie_num,25088])\n",
    "\n",
    "for i in range(movie_num):\n",
    "    tmp = model.predict(img[i]).ravel()\n",
    "    feature_matrix[i,:] = tmp"
   ]
  },
  {
   "cell_type": "code",
   "execution_count": null,
   "metadata": {
    "collapsed": true
   },
   "outputs": [],
   "source": [
    "np.save('feature_matrix',feature_matrix)\n",
    "np.save('movie_list',movie_list)"
   ]
  }
 ],
 "metadata": {
  "kernelspec": {
   "display_name": "Python [conda root]",
   "language": "python",
   "name": "conda-root-py"
  },
  "language_info": {
   "codemirror_mode": {
    "name": "ipython",
    "version": 3
   },
   "file_extension": ".py",
   "mimetype": "text/x-python",
   "name": "python",
   "nbconvert_exporter": "python",
   "pygments_lexer": "ipython3",
   "version": "3.5.2"
  }
 },
 "nbformat": 4,
 "nbformat_minor": 1
}
