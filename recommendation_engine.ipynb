{
 "cells": [
  {
   "cell_type": "code",
   "execution_count": 1,
   "metadata": {
    "collapsed": false
   },
   "outputs": [],
   "source": [
    "# data_process is used to generate raw data and perform feature engineering with the data\n",
    "#%run data_process\n",
    "%run recommendation_engine_func.ipynb"
   ]
  },
  {
   "cell_type": "code",
   "execution_count": 2,
   "metadata": {
    "collapsed": false
   },
   "outputs": [
    {
     "name": "stdout",
     "output_type": "stream",
     "text": [
      "3.5.2 |Anaconda 4.2.0 (x86_64)| (default, Jul  2 2016, 17:52:12) \n",
      "[GCC 4.2.1 Compatible Apple LLVM 4.2 (clang-425.0.28)]\n",
      "/Users/zishuoli/Downloads/bigdata/final\n"
     ]
    }
   ],
   "source": [
    "import sys,os\n",
    "print(sys.version)\n",
    "print(os.getcwd())"
   ]
  },
  {
   "cell_type": "code",
   "execution_count": 3,
   "metadata": {
    "collapsed": false
   },
   "outputs": [
    {
     "name": "stderr",
     "output_type": "stream",
     "text": [
      "Using TensorFlow backend.\n"
     ]
    }
   ],
   "source": [
    "'''import basic package'''\n",
    "import pandas as pd\n",
    "import numpy as np\n",
    "\n",
    "\n",
    "'''import deep learning package'''\n",
    "import keras as k\n",
    "import tensorflow as tf\n",
    "\n",
    "\n",
    "import requests\n",
    "import json\n",
    "\n",
    "from IPython.display import Image\n",
    "from IPython.display import display\n",
    "from IPython.display import HTML\n",
    "\n",
    "import urllib.request\n",
    "\n",
    "from keras.applications import VGG16\n",
    "from keras.applications.vgg16 import preprocess_input\n",
    "from keras.preprocessing import image as kimage\n"
   ]
  },
  {
   "cell_type": "markdown",
   "metadata": {},
   "source": [
    "# SVD Recommendation Part"
   ]
  },
  {
   "cell_type": "code",
   "execution_count": 39,
   "metadata": {
    "collapsed": false
   },
   "outputs": [],
   "source": [
    "rating_matrix = np.load('rating_matrix.npy')\n",
    "movieId_vs_tmdbId = np.load('movieId_vs_tmdbId.npy').item()"
   ]
  },
  {
   "cell_type": "code",
   "execution_count": 43,
   "metadata": {
    "collapsed": true
   },
   "outputs": [],
   "source": [
    "items, items_rating = svd_recommend(rating_matrix,movieId_vs_tmdbId,10)"
   ]
  },
  {
   "cell_type": "code",
   "execution_count": 44,
   "metadata": {
    "collapsed": false
   },
   "outputs": [
    {
     "data": {
      "text/html": [
       "<img style='width: 100px; margin: 0px;                 float: left; border: 1px solid black;' src='https://image.tmdb.org/t/p/w500/xwDi4wF0I1L5bSW08Y8GocDGjJP.jpg' /><img style='width: 100px; margin: 0px;                 float: left; border: 1px solid black;' src='https://image.tmdb.org/t/p/w500/xKAweeF2ZPMNn6ce4GclSbr59Pv.jpg' /><img style='width: 100px; margin: 0px;                 float: left; border: 1px solid black;' src='https://image.tmdb.org/t/p/w500/cTF8lpXvAwT1SLH9kVFZZl0AO0D.jpg' /><img style='width: 100px; margin: 0px;                 float: left; border: 1px solid black;' src='https://image.tmdb.org/t/p/w500/ioHxm3D3JdSXR61LRhcVb8KdZOz.jpg' /><img style='width: 100px; margin: 0px;                 float: left; border: 1px solid black;' src='https://image.tmdb.org/t/p/w500/cDqEv4Fw4JZh2zCfecqw3z09L8z.jpg' /><img style='width: 100px; margin: 0px;                 float: left; border: 1px solid black;' src='https://image.tmdb.org/t/p/w500/yccgwPNVaqtgS1d0U5jjM6Mnza8.jpg' /><img style='width: 100px; margin: 0px;                 float: left; border: 1px solid black;' src='https://image.tmdb.org/t/p/w500/r5IqhwZ61OuKlsyDwvXWyWQZK30.jpg' /><img style='width: 100px; margin: 0px;                 float: left; border: 1px solid black;' src='https://image.tmdb.org/t/p/w500/yvD2BWOEM5N4S4f6Yj8IVVjoKQO.jpg' /><img style='width: 100px; margin: 0px;                 float: left; border: 1px solid black;' src='https://image.tmdb.org/t/p/w500/y5Jee3QmYOlpqfaPPbfvtdVc5wj.jpg' /><img style='width: 100px; margin: 0px;                 float: left; border: 1px solid black;' src='https://image.tmdb.org/t/p/w500/ys5Sgpc27mVo3H5zYLPV9LWDq5.jpg' />"
      ],
      "text/plain": [
       "<IPython.core.display.HTML object>"
      ]
     },
     "metadata": {},
     "output_type": "display_data"
    }
   ],
   "source": [
    "movie_list_svd = items[0]\n",
    "url_svd = [get_poster(x) for x in items[0]]\n",
    "\n",
    "display_images(url_svd)"
   ]
  },
  {
   "cell_type": "markdown",
   "metadata": {},
   "source": [
    "# Cosine similarity recommendation part"
   ]
  },
  {
   "cell_type": "code",
   "execution_count": 45,
   "metadata": {
    "collapsed": false
   },
   "outputs": [],
   "source": [
    "'''\n",
    "split train & test\n",
    "'''\n",
    "train_matrix = rating_matrix.copy()\n",
    "test_matrix = np.zeros(rating_matrix.shape)\n",
    "\n",
    "for i in range(rating_matrix.shape[0]):\n",
    "    rating_idx = np.random.choice(\n",
    "        rating_matrix[i, :].nonzero()[0], \n",
    "        size=10, \n",
    "        replace=True)\n",
    "    train_matrix[i, rating_idx] = 0.0\n",
    "    test_matrix[i, rating_idx] = rating_matrix[i, rating_idx]\n"
   ]
  },
  {
   "cell_type": "code",
   "execution_count": 46,
   "metadata": {
    "collapsed": false
   },
   "outputs": [
    {
     "name": "stdout",
     "output_type": "stream",
     "text": [
      "similarity user matrix shape: (671, 671)\n",
      "similarity movie matrix shape: (9000, 9000)\n"
     ]
    }
   ],
   "source": [
    "similarity_user = cosine_similarity_matrix(train_matrix)\n",
    "print('similarity user matrix shape:',similarity_user.shape)\n",
    "similarity_movie = cosine_similarity_matrix(train_matrix.T)\n",
    "print('similarity movie matrix shape:',similarity_movie.shape)\n"
   ]
  },
  {
   "cell_type": "code",
   "execution_count": 47,
   "metadata": {
    "collapsed": false
   },
   "outputs": [
    {
     "name": "stdout",
     "output_type": "stream",
     "text": [
      "real_value: [ 2.5  3.   2.  ...,  3.5  4.5  4. ]\n",
      "prediction: [ 0.54373842  0.67968005  1.02033544 ...,  1.09396875  1.18874884\n",
      "  0.58826262]\n"
     ]
    }
   ],
   "source": [
    "prediction = prediction_(similarity_user,rating_matrix)\n",
    "prediction = prediction[test_matrix.nonzero()].flatten()\n",
    "test_vector = test_matrix[test_matrix.nonzero()].flatten()\n",
    "print('real_value:',test_vector)\n",
    "print('prediction:',prediction)"
   ]
  },
  {
   "cell_type": "code",
   "execution_count": 48,
   "metadata": {
    "collapsed": false
   },
   "outputs": [
    {
     "name": "stdout",
     "output_type": "stream",
     "text": [
      "mse for prediction using cosine similarity 8.94021\n"
     ]
    }
   ],
   "source": [
    "mse = error(prediction=prediction,real_value=test_vector)\n",
    "print('mse for prediction using cosine similarity',mse)"
   ]
  },
  {
   "cell_type": "code",
   "execution_count": 49,
   "metadata": {
    "collapsed": false
   },
   "outputs": [
    {
     "data": {
      "text/html": [
       "<img style='width: 100px; margin: 0px;                 float: left; border: 1px solid black;' src='https://image.tmdb.org/t/p/w500/rhIRbceoE9lR4veEXuwCC2wARtG.jpg' /><img style='width: 100px; margin: 0px;                 float: left; border: 1px solid black;' src='https://image.tmdb.org/t/p/w500/3CmK3XurcLeUyMifCR28ibzupbB.jpg' /><img style='width: 100px; margin: 0px;                 float: left; border: 1px solid black;' src='https://image.tmdb.org/t/p/w500/vXjVd0Vu0MXRZnga7wEnHIIhO5B.jpg' /><img style='width: 100px; margin: 0px;                 float: left; border: 1px solid black;' src='https://image.tmdb.org/t/p/w500/140ewbWv8qHStD3mlBDvvGd0Zvu.jpg' /><img style='width: 100px; margin: 0px;                 float: left; border: 1px solid black;' src='https://image.tmdb.org/t/p/w500/f24UVKq3UiQWLqGWdqjwkzgB8j8.jpg' />"
      ],
      "text/plain": [
       "<IPython.core.display.HTML object>"
      ]
     },
     "metadata": {},
     "output_type": "display_data"
    }
   ],
   "source": [
    "movie_list_cosine = similar_select(similarity_movie,movieId_vs_tmdbId)\n",
    "url_list_cosine = [get_poster(x) for x in movie_list_cosine]\n",
    "\n",
    "display_images(url_list_cosine)"
   ]
  },
  {
   "cell_type": "markdown",
   "metadata": {},
   "source": [
    "# Deep Learning Part"
   ]
  },
  {
   "cell_type": "code",
   "execution_count": 50,
   "metadata": {
    "collapsed": false
   },
   "outputs": [],
   "source": [
    "feature_matrix = np.load('feature_matrix.npy')\n",
    "movie_list  = np.load('movie_list.npy')"
   ]
  },
  {
   "cell_type": "code",
   "execution_count": 51,
   "metadata": {
    "collapsed": false
   },
   "outputs": [],
   "source": [
    "similarity_movie = cosine_similarity_matrix(feature_matrix)"
   ]
  },
  {
   "cell_type": "code",
   "execution_count": 55,
   "metadata": {
    "collapsed": false
   },
   "outputs": [
    {
     "data": {
      "text/html": [
       "<img style='width: 100px; margin: 0px;                 float: left; border: 1px solid black;' src='https://image.tmdb.org/t/p/w500/4saVIltqkhq9is5NmD7N87Q40M.jpg' /><img style='width: 100px; margin: 0px;                 float: left; border: 1px solid black;' src='https://image.tmdb.org/t/p/w500/3eHIyNW0MqTsQtijfuFeGUXlH4m.jpg' /><img style='width: 100px; margin: 0px;                 float: left; border: 1px solid black;' src='https://image.tmdb.org/t/p/w500/aAmfIX3TT40zUHGcCKrlOZRKC7u.jpg' /><img style='width: 100px; margin: 0px;                 float: left; border: 1px solid black;' src='https://image.tmdb.org/t/p/w500/1KFa2Mzzn2DMlC95eJwRYgRsHI.jpg' /><img style='width: 100px; margin: 0px;                 float: left; border: 1px solid black;' src='https://image.tmdb.org/t/p/w500/8x0WrDcFQDC2eoXJe6iC34wXZE8.jpg' /><img style='width: 100px; margin: 0px;                 float: left; border: 1px solid black;' src='https://image.tmdb.org/t/p/w500/sqL1X8InstIQralJt78tW3yX9zj.jpg' />"
      ],
      "text/plain": [
       "<IPython.core.display.HTML object>"
      ]
     },
     "metadata": {},
     "output_type": "display_data"
    }
   ],
   "source": [
    "show_result(similarity_movie,movieId_vs_tmdbId,movie_list,target_id=4,n=5)"
   ]
  },
  {
   "cell_type": "code",
   "execution_count": 11,
   "metadata": {
    "collapsed": false
   },
   "outputs": [
    {
     "data": {
      "text/html": [
       "<img style='width: 100px; margin: 0px;                 float: left; border: 1px solid black;' src='https://image.tmdb.org/t/p/w500/libiCEHlBeTUs9ykxpkzWSHRrBz.jpg' /><img style='width: 100px; margin: 0px;                 float: left; border: 1px solid black;' src='https://image.tmdb.org/t/p/w500/8kAAZ2mC2uUd4D95CbdYUsikcju.jpg' /><img style='width: 100px; margin: 0px;                 float: left; border: 1px solid black;' src='https://image.tmdb.org/t/p/w500/oWxzmMZHIqtZLXztpPv5kbrcuD9.jpg' /><img style='width: 100px; margin: 0px;                 float: left; border: 1px solid black;' src='https://image.tmdb.org/t/p/w500/lsZ9F6Hj1PktYQ9iywzrOwIKpr8.jpg' /><img style='width: 100px; margin: 0px;                 float: left; border: 1px solid black;' src='https://image.tmdb.org/t/p/w500/aic0M3cGf8X5GBaXdMRyWBJaU4A.jpg' /><img style='width: 100px; margin: 0px;                 float: left; border: 1px solid black;' src='https://image.tmdb.org/t/p/w500/ndOpIx4BXpFCRRIxgMoGHxZxlE9.jpg' />"
      ],
      "text/plain": [
       "<IPython.core.display.HTML object>"
      ]
     },
     "metadata": {},
     "output_type": "display_data"
    }
   ],
   "source": [
    "show_result(similarity_movie,movie_list,5)"
   ]
  },
  {
   "cell_type": "code",
   "execution_count": 12,
   "metadata": {
    "collapsed": false
   },
   "outputs": [
    {
     "data": {
      "text/html": [
       "<img style='width: 100px; margin: 0px;                 float: left; border: 1px solid black;' src='https://image.tmdb.org/t/p/w500/b4mYjC8kKx32BnCNBQeDCA76WBd.jpg' /><img style='width: 100px; margin: 0px;                 float: left; border: 1px solid black;' src='https://image.tmdb.org/t/p/w500/wcG2PA66Fbv2l7r0n59x1nuB5fd.jpg' /><img style='width: 100px; margin: 0px;                 float: left; border: 1px solid black;' src='https://image.tmdb.org/t/p/w500/u0YrGkpjL5H190qqEsQavZ2WrV5.jpg' /><img style='width: 100px; margin: 0px;                 float: left; border: 1px solid black;' src='https://image.tmdb.org/t/p/w500/zaisXz8RRIqRy0Tnw20q7whKuM8.jpg' /><img style='width: 100px; margin: 0px;                 float: left; border: 1px solid black;' src='https://image.tmdb.org/t/p/w500/4g8AMbqh4evHQwI1td63TH5cZTb.jpg' /><img style='width: 100px; margin: 0px;                 float: left; border: 1px solid black;' src='https://image.tmdb.org/t/p/w500/ezNF5WT3eRbEXUwtPa5Z8RVBUxi.jpg' />"
      ],
      "text/plain": [
       "<IPython.core.display.HTML object>"
      ]
     },
     "metadata": {},
     "output_type": "display_data"
    }
   ],
   "source": [
    "show_result(similarity_movie,movie_list,7)"
   ]
  },
  {
   "cell_type": "code",
   "execution_count": 14,
   "metadata": {
    "collapsed": false
   },
   "outputs": [
    {
     "data": {
      "text/html": [
       "<img style='width: 100px; margin: 0px;                 float: left; border: 1px solid black;' src='https://image.tmdb.org/t/p/w500/mQjdi0DSijrNILCOyViVU6X3LPC.jpg' /><img style='width: 100px; margin: 0px;                 float: left; border: 1px solid black;' src='https://image.tmdb.org/t/p/w500/4tpCYRYeCLCnhytPRwDicdb30yu.jpg' /><img style='width: 100px; margin: 0px;                 float: left; border: 1px solid black;' src='https://image.tmdb.org/t/p/w500/eaKaiKlCMIzqWah7DbKex8msPkC.jpg' /><img style='width: 100px; margin: 0px;                 float: left; border: 1px solid black;' src='https://image.tmdb.org/t/p/w500/uvlmeDxfPjDxXyMFDskpK4F4mUi.jpg' /><img style='width: 100px; margin: 0px;                 float: left; border: 1px solid black;' src='https://image.tmdb.org/t/p/w500/iOdP6Ybu5ZuNPm0c4zAnlTFF98B.jpg' /><img style='width: 100px; margin: 0px;                 float: left; border: 1px solid black;' src='https://image.tmdb.org/t/p/w500/uSB5lxXbL9QDpgBSHYKA4PU7hfl.jpg' />"
      ],
      "text/plain": [
       "<IPython.core.display.HTML object>"
      ]
     },
     "metadata": {},
     "output_type": "display_data"
    }
   ],
   "source": [
    "show_result(similarity_movie,movie_list,8)"
   ]
  },
  {
   "cell_type": "code",
   "execution_count": 15,
   "metadata": {
    "collapsed": false
   },
   "outputs": [
    {
     "data": {
      "text/html": [
       "<img style='width: 100px; margin: 0px;                 float: left; border: 1px solid black;' src='https://image.tmdb.org/t/p/w500/mif93qTCI33RyoxhroEK0ANsGbk.jpg' /><img style='width: 100px; margin: 0px;                 float: left; border: 1px solid black;' src='https://image.tmdb.org/t/p/w500/9rK0dPPynwRp9ggYE8iWMQdKtXi.jpg' /><img style='width: 100px; margin: 0px;                 float: left; border: 1px solid black;' src='https://image.tmdb.org/t/p/w500/zVnzFkQqcPC1uxhAuIaWx4H0kEO.jpg' /><img style='width: 100px; margin: 0px;                 float: left; border: 1px solid black;' src='https://image.tmdb.org/t/p/w500/uxp6rHVBzUqZCyTaUI8xzUP5sOf.jpg' /><img style='width: 100px; margin: 0px;                 float: left; border: 1px solid black;' src='https://image.tmdb.org/t/p/w500/lMsMobvpvMI2JzJBT75m45p5pLu.jpg' /><img style='width: 100px; margin: 0px;                 float: left; border: 1px solid black;' src='https://image.tmdb.org/t/p/w500/mcksUKrHMcSTiucirm1qDdabxVy.jpg' />"
      ],
      "text/plain": [
       "<IPython.core.display.HTML object>"
      ]
     },
     "metadata": {},
     "output_type": "display_data"
    }
   ],
   "source": [
    "show_result(similarity_movie,movie_list,9)"
   ]
  },
  {
   "cell_type": "code",
   "execution_count": 16,
   "metadata": {
    "collapsed": false
   },
   "outputs": [
    {
     "data": {
      "text/html": [
       "<img style='width: 100px; margin: 0px;                 float: left; border: 1px solid black;' src='https://image.tmdb.org/t/p/w500/dCRKJ29mrYQcaweEIUY4k2x4Voa.jpg' /><img style='width: 100px; margin: 0px;                 float: left; border: 1px solid black;' src='https://image.tmdb.org/t/p/w500/SyGTK1WIfjKArTbbW69WDQTCSc.jpg' /><img style='width: 100px; margin: 0px;                 float: left; border: 1px solid black;' src='https://image.tmdb.org/t/p/w500/vYaWP1Pt8n9npX5eaynZHP7MIRV.jpg' /><img style='width: 100px; margin: 0px;                 float: left; border: 1px solid black;' src='https://image.tmdb.org/t/p/w500/hrWPjBPBA4d1O4raq6TE7ugTTIn.jpg' /><img style='width: 100px; margin: 0px;                 float: left; border: 1px solid black;' src='https://image.tmdb.org/t/p/w500/uSukdUQwx0l4rRuMXNqugR1tu4n.jpg' /><img style='width: 100px; margin: 0px;                 float: left; border: 1px solid black;' src='https://image.tmdb.org/t/p/w500/eXPBduJ3PivR60dJ5BYd2gcyAud.jpg' />"
      ],
      "text/plain": [
       "<IPython.core.display.HTML object>"
      ]
     },
     "metadata": {},
     "output_type": "display_data"
    }
   ],
   "source": [
    "show_result(similarity_movie,movie_list,10)"
   ]
  }
 ],
 "metadata": {
  "anaconda-cloud": {},
  "kernelspec": {
   "display_name": "Python [conda root]",
   "language": "python",
   "name": "conda-root-py"
  },
  "language_info": {
   "codemirror_mode": {
    "name": "ipython",
    "version": 3
   },
   "file_extension": ".py",
   "mimetype": "text/x-python",
   "name": "python",
   "nbconvert_exporter": "python",
   "pygments_lexer": "ipython3",
   "version": "3.5.2"
  }
 },
 "nbformat": 4,
 "nbformat_minor": 1
}
